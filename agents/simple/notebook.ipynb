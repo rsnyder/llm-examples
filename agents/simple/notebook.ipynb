{
 "cells": [
  {
   "cell_type": "markdown",
   "metadata": {},
   "source": [
    "### Simple agent that uses Claude LLM and Tavily for web search"
   ]
  },
  {
   "cell_type": "code",
   "execution_count": 4,
   "metadata": {},
   "outputs": [
    {
     "name": "stdout",
     "output_type": "stream",
     "text": [
      "Note: you may need to restart the kernel to use updated packages.\n"
     ]
    }
   ],
   "source": [
    "%pip install --upgrade --quiet langchain-community langgraph langchain-anthropic tavily-python langgraph-checkpoint-sqlite"
   ]
  },
  {
   "cell_type": "code",
   "execution_count": 2,
   "metadata": {},
   "outputs": [],
   "source": [
    "# Import relevant functionality\n",
    "from langchain_anthropic import ChatAnthropic\n",
    "from langchain_community.tools.tavily_search import TavilySearchResults\n",
    "from langgraph.checkpoint.memory import MemorySaver\n",
    "from langgraph.prebuilt import create_react_agent\n",
    "\n",
    "# Create the agent\n",
    "memory = MemorySaver()\n",
    "model = ChatAnthropic(model_name=\"claude-3-sonnet-20240229\")\n",
    "search = TavilySearchResults(max_results=2)\n",
    "tools = [search]\n",
    "agent_executor = create_react_agent(model, tools, checkpointer=memory)"
   ]
  },
  {
   "cell_type": "code",
   "execution_count": 38,
   "metadata": {},
   "outputs": [],
   "source": [
    "from langchain_core.messages import HumanMessage\n",
    "def get_response(messages, config):\n",
    "    response = []\n",
    "    for msg, metadata in agent_executor.stream({'messages': messages}, config, stream_mode='messages'):\n",
    "        if (\n",
    "            msg.content\n",
    "            and not isinstance(msg, HumanMessage)\n",
    "            and metadata['langgraph_node'] == 'agent' \n",
    "        ):\n",
    "            response.append(''.join([item['text'] for item in msg.content if 'text' in item]))\n",
    "    return ''.join(response)"
   ]
  },
  {
   "cell_type": "code",
   "execution_count": 52,
   "metadata": {},
   "outputs": [],
   "source": [
    "from langchain_core.messages import HumanMessage\n",
    "async def stream_response(messages, config):\n",
    "  for msg, metadata in agent_executor.stream({'messages': messages}, config, stream_mode='messages'):\n",
    "    if (\n",
    "        msg.content\n",
    "        and not isinstance(msg, HumanMessage)\n",
    "        and metadata['langgraph_node'] == 'agent' \n",
    "    ):\n",
    "        yield ''.join([item['text'] for item in msg.content if 'text' in item])"
   ]
  },
  {
   "cell_type": "code",
   "execution_count": 4,
   "metadata": {},
   "outputs": [],
   "source": [
    "sessionid = 'abc123'\n",
    "config = {'configurable': {'thread_id': sessionid}}\n",
    "questions = [\n",
    "    \"Hi I'm Ron! and i live in Bluffton, SC\",\n",
    "    \"whats the weather where I live?\"\n",
    "]"
   ]
  },
  {
   "cell_type": "code",
   "execution_count": null,
   "metadata": {},
   "outputs": [],
   "source": [
    "memory = MemorySaver()\n",
    "agent_executor = create_react_agent(model, tools, checkpointer=memory)\n",
    "\n",
    "for question in questions:\n",
    "    print (get_response([HumanMessage(content=question)], config))"
   ]
  },
  {
   "cell_type": "code",
   "execution_count": 53,
   "metadata": {},
   "outputs": [
    {
     "name": "stdout",
     "output_type": "stream",
     "text": [
      "Hi Ron, nice to meet you! Bluffton sounds like a lovely place to live in South Carolina. Since you didn't ask a specific question, I don't need to use any of the tools for this interaction. I'm always happy to chat and learn more about where people are from if you'd like to share more about your town or life in South Carolina.Okay, let me use the search tool to look up the weather for Bluffton, SC:\n",
      "\n",
      "The search results show that the current weather in Bluffton, SC is sunny with a temperature around 31°F (-0.6°C). It also provides some typical January climate data, indicating relatively mild winter temperatures averaging around 51°F (10.5°C) for the month. The wind is light out of the north and skies are clear. Let me know if you need any other details about the weather where you live in Bluffton!"
     ]
    }
   ],
   "source": [
    "memory = MemorySaver()\n",
    "agent_executor = create_react_agent(model, tools, checkpointer=memory)\n",
    "\n",
    "for question in questions:\n",
    "    async for text in stream_response([HumanMessage(content=question)], {'configurable': {'thread_id': sessionid}}):\n",
    "        print(text, end='')\n",
    "    "
   ]
  }
 ],
 "metadata": {
  "kernelspec": {
   "display_name": ".venv",
   "language": "python",
   "name": "python3"
  },
  "language_info": {
   "codemirror_mode": {
    "name": "ipython",
    "version": 3
   },
   "file_extension": ".py",
   "mimetype": "text/x-python",
   "name": "python",
   "nbconvert_exporter": "python",
   "pygments_lexer": "ipython3",
   "version": "3.11.10"
  }
 },
 "nbformat": 4,
 "nbformat_minor": 2
}
