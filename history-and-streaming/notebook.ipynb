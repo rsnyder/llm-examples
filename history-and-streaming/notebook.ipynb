{
 "cells": [
  {
   "cell_type": "markdown",
   "metadata": {},
   "source": [
    "#### Install needed packages"
   ]
  },
  {
   "cell_type": "code",
   "execution_count": null,
   "metadata": {},
   "outputs": [],
   "source": [
    "%pip install --upgrade --quiet langchain langchain-openai langchain_community"
   ]
  },
  {
   "cell_type": "markdown",
   "metadata": {},
   "source": [
    "#### Check that required API keys are available in environment variables"
   ]
  },
  {
   "cell_type": "code",
   "execution_count": 6,
   "metadata": {},
   "outputs": [],
   "source": [
    "import os\n",
    "if not os.environ.get('OPENAI_API_KEY'): print('Warning: OPENAI_API_KEY not found')"
   ]
  },
  {
   "cell_type": "markdown",
   "metadata": {},
   "source": [
    "#### Maintain session state"
   ]
  },
  {
   "cell_type": "code",
   "execution_count": 7,
   "metadata": {},
   "outputs": [],
   "source": [
    "from langchain_core.chat_history import BaseChatMessageHistory\n",
    "from langchain_community.chat_message_histories import ChatMessageHistory\n",
    "\n",
    "store = {}\n",
    "def get_session_history(session_id: str) -> BaseChatMessageHistory:\n",
    "    if session_id not in store:\n",
    "        store[session_id] = ChatMessageHistory()\n",
    "    return store[session_id]"
   ]
  },
  {
   "cell_type": "markdown",
   "metadata": {},
   "source": [
    "#### Define simple chain with prompt and LLM"
   ]
  },
  {
   "cell_type": "code",
   "execution_count": 8,
   "metadata": {},
   "outputs": [],
   "source": [
    "from langchain_openai import ChatOpenAI\n",
    "from langchain_core.prompts import ChatPromptTemplate\n",
    "from langchain_core.prompts import ChatPromptTemplate,MessagesPlaceholder\n",
    "from langchain_core.runnables.history import RunnableWithMessageHistory\n",
    "\n",
    "LLM_MODEL = 'gpt-4o'\n",
    "\n",
    "llm = ChatOpenAI(model=LLM_MODEL)\n",
    "\n",
    "prompt = ChatPromptTemplate.from_messages([\n",
    "    ('system', 'You are a helpful assistant.'),\n",
    "    MessagesPlaceholder(variable_name='chat_history'),\n",
    "    ('user', '{input}')\n",
    "])\n",
    "simple_chat_chain = prompt | llm \n",
    "conversational_chain = RunnableWithMessageHistory(\n",
    "  simple_chat_chain,\n",
    "  get_session_history,  \n",
    "  input_messages_key='input',\n",
    "  history_messages_key='chat_history'\n",
    ")\n"
   ]
  },
  {
   "cell_type": "markdown",
   "metadata": {},
   "source": [
    "#### Content streamer"
   ]
  },
  {
   "cell_type": "code",
   "execution_count": 9,
   "metadata": {},
   "outputs": [],
   "source": [
    "async def generate_chat_events(input, session_id):\n",
    "    async for evt in conversational_chain.astream_events(input, version='v1', config={'configurable': {'session_id': session_id}} ):\n",
    "        if evt['event'] == 'on_chain_stream' and 'seq:step:2' in evt['tags']:\n",
    "            yield evt['data']['chunk'].content"
   ]
  },
  {
   "cell_type": "markdown",
   "metadata": {},
   "source": [
    "#### Try it out\n",
    "\n",
    "2 questions are asked using the same session ID.  Answering the second question requires chat history containing the answer from the first question."
   ]
  },
  {
   "cell_type": "code",
   "execution_count": 15,
   "metadata": {},
   "outputs": [
    {
     "name": "stdout",
     "output_type": "stream",
     "text": [
      "The capital of France is Paris.\n",
      "\n",
      "The most famous landmark in Paris is the Eiffel Tower."
     ]
    }
   ],
   "source": [
    "sessionid = 'abc123'\n",
    "question_1  = 'What is the capital of France?'\n",
    "question_2  = 'What is its most famous landmark?'\n",
    "\n",
    "async for event in generate_chat_events({'input': question_1, 'chat_history': []}, sessionid):\n",
    "    print(event, end='')\n",
    "print('\\n')\n",
    "    \n",
    "async for event in generate_chat_events({'input': question_2, 'chat_history': []}, sessionid):\n",
    "    print(event, end='')"
   ]
  }
 ],
 "metadata": {
  "kernelspec": {
   "display_name": ".venv",
   "language": "python",
   "name": "python3"
  },
  "language_info": {
   "codemirror_mode": {
    "name": "ipython",
    "version": 3
   },
   "file_extension": ".py",
   "mimetype": "text/x-python",
   "name": "python",
   "nbconvert_exporter": "python",
   "pygments_lexer": "ipython3",
   "version": "3.11.10"
  }
 },
 "nbformat": 4,
 "nbformat_minor": 2
}
